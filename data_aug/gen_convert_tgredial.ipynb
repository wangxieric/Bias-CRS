{
 "cells": [
  {
   "cell_type": "code",
   "execution_count": 143,
   "id": "01522474-da0b-4b63-acef-b5db75974f4c",
   "metadata": {
    "tags": []
   },
   "outputs": [],
   "source": [
    "import json\n",
    "# data = json.load(open('output_dialog_missing_1.json', 'r'))\n",
    "data = json.load(open('output_dialog_tgredial.json', 'r'))"
   ]
  },
  {
   "cell_type": "code",
   "execution_count": 44,
   "id": "955ff79c-4e0a-485e-aaf9-b108374334ab",
   "metadata": {
    "tags": []
   },
   "outputs": [],
   "source": [
    "test_data = json.load(open('tgredial_bert/test_data.json', 'r'))"
   ]
  },
  {
   "cell_type": "code",
   "execution_count": 47,
   "id": "a44ff1cd-164e-498b-810d-f7671e6e8260",
   "metadata": {
    "tags": []
   },
   "outputs": [
    {
     "data": {
      "text/plain": [
       "['反馈，结束', [None]]"
      ]
     },
     "execution_count": 47,
     "metadata": {},
     "output_type": "execute_result"
    }
   ],
   "source": [
    "test_data[0]['messages'][-1]['final']"
   ]
  },
  {
   "cell_type": "code",
   "execution_count": 101,
   "id": "a2a2d416-0156-48ff-ba95-2a7bd531e7de",
   "metadata": {
    "tags": []
   },
   "outputs": [
    {
     "data": {
      "text/plain": [
       "'我知道（1956年中国动电影）'"
      ]
     },
     "execution_count": 101,
     "metadata": {},
     "output_type": "execute_result"
    }
   ],
   "source": [
    "# Get the mentioned movies\n",
    "# with multiple movies\n",
    "# list(data[0].keys())[0].split(' ')\n",
    "# with individual movies\n",
    "list(data[2].keys())[0]"
   ]
  },
  {
   "cell_type": "code",
   "execution_count": 144,
   "id": "1a9827ba-97a1-4ac1-882e-ed780ef3eb09",
   "metadata": {
    "tags": []
   },
   "outputs": [],
   "source": [
    "entity2id = json.load(open('tgredial_bert/entity2id.json', 'r'))"
   ]
  },
  {
   "cell_type": "code",
   "execution_count": 148,
   "id": "10c77742-fbc7-424c-a596-2b023a7bbcad",
   "metadata": {
    "tags": []
   },
   "outputs": [
    {
     "data": {
      "text/plain": [
       "1"
      ]
     },
     "execution_count": 148,
     "metadata": {},
     "output_type": "execute_result"
    }
   ],
   "source": [
    "entity2id[list(data[0].keys())[0]]"
   ]
  },
  {
   "cell_type": "code",
   "execution_count": 139,
   "id": "ed8cbc8c-5c26-4313-8328-ed518a9b5af0",
   "metadata": {
    "tags": []
   },
   "outputs": [
    {
     "name": "stdout",
     "output_type": "stream",
     "text": [
      "[用户]: 嗨，我正在寻找一部好电影看。你有什么推荐吗？ [系统]: 当然！你有任何特定类型或题材的电影偏好吗？ [用户]: 我想看一部关于中国历史的战争电影。 [系统]: 好的，如果你对抗日战争感兴趣，我可以向你推荐一部叫做《大决战之平津战役》的电影。这是一部讲述中国人民解放军在抗日战争中抵御日军入侵的电影。 [用户]: 听起来不错！请告诉我更多关于《大决战之平津战役》的信息。 [系统]: 《大决战之平津战役》是由中国著名导演冯小刚执导的一部战争电影。它以中国人民解放军在抗日战争中抵御日军入侵的历史事件为背景，讲述了中国军队在平津战役中对抗日军所展现出的英勇和坚韧。影片中揭示了中国人民在艰苦环境下崭露头角的精神面貌，以及中国军队在历史上的无畏精神。 [用户]: 这部电影听起来很激动人心！我一定会去看看。 [系统]: 是的，这部电影确实很值得一看。希望你能够喜欢这个推荐。如果你还有其他问题，请随时告诉我！\n"
     ]
    }
   ],
   "source": [
    "import re\n",
    "# Get the utterances\n",
    "# list(data[0].values())[0]['choices'][0]['message']['content'].split('\\n')\n",
    "text = list(data[6].values())[0]\n",
    "text = text.replace(\"\\n\", \"\")\n",
    "print(text)\n",
    "# (r'\\s(?=\\[用户\\]:|\\[系统\\]:)\n",
    "# result = re.split(r'(\\[用户\\]:|\\[系统\\]:)', text)\n",
    "\n",
    "# result = re.findall(r'\\[(用户|系统)\\]:\\s(.*?)((?=\\[(用户|系统)\\]:)|$)', text)\n",
    "\n",
    "# # Combining the tag and message into a single string\n",
    "# result = ['[' + tag + ']: ' + message for tag, message, _, _ in result]\n",
    "\n",
    "# Split the text into strings starting with [用户] or [系统]\n",
    "strings = re.split(r'\\s*(?=\\[用户\\]|\\[系统\\])', text)\n",
    "# Remove empty strings from the list\n",
    "strings = [s.strip() for s in strings if s.strip()]"
   ]
  },
  {
   "cell_type": "code",
   "execution_count": 140,
   "id": "820f4a84-0bfb-44ca-9521-73609ded9a9d",
   "metadata": {
    "tags": []
   },
   "outputs": [
    {
     "data": {
      "text/plain": [
       "['[用户]: 嗨，我正在寻找一部好电影看。你有什么推荐吗？',\n",
       " '[系统]: 当然！你有任何特定类型或题材的电影偏好吗？',\n",
       " '[用户]: 我想看一部关于中国历史的战争电影。',\n",
       " '[系统]: 好的，如果你对抗日战争感兴趣，我可以向你推荐一部叫做《大决战之平津战役》的电影。这是一部讲述中国人民解放军在抗日战争中抵御日军入侵的电影。',\n",
       " '[用户]: 听起来不错！请告诉我更多关于《大决战之平津战役》的信息。',\n",
       " '[系统]: 《大决战之平津战役》是由中国著名导演冯小刚执导的一部战争电影。它以中国人民解放军在抗日战争中抵御日军入侵的历史事件为背景，讲述了中国军队在平津战役中对抗日军所展现出的英勇和坚韧。影片中揭示了中国人民在艰苦环境下崭露头角的精神面貌，以及中国军队在历史上的无畏精神。',\n",
       " '[用户]: 这部电影听起来很激动人心！我一定会去看看。',\n",
       " '[系统]: 是的，这部电影确实很值得一看。希望你能够喜欢这个推荐。如果你还有其他问题，请随时告诉我！']"
      ]
     },
     "execution_count": 140,
     "metadata": {},
     "output_type": "execute_result"
    }
   ],
   "source": [
    "strings"
   ]
  },
  {
   "cell_type": "code",
   "execution_count": 21,
   "id": "3269fad9-d160-43fd-8f0c-6a86d01ed122",
   "metadata": {
    "tags": []
   },
   "outputs": [
    {
     "name": "stdout",
     "output_type": "stream",
     "text": [
      "100\n",
      "False\n",
      "False\n",
      "False\n",
      "True\n",
      "True\n",
      "True\n",
      "False\n",
      "False\n"
     ]
    }
   ],
   "source": [
    "from fuzzywuzzy import fuzz\n",
    "def get_max_sim_score(uttrs, movie_name):\n",
    "    max_score = 0 \n",
    "    for uttr in uttrs:\n",
    "        score = fuzz.partial_ratio(uttr, movie_name)\n",
    "        if score > max_score:\n",
    "            max_score = score\n",
    "    return max_score\n",
    "    \n",
    "def fuzzy_match(uttr, movie_name, max_score):\n",
    "    # print(fuzz.partial_ratio(uttr, movie_name))\n",
    "    if fuzz.partial_ratio(uttr, movie_name) == max_score:\n",
    "        return True\n",
    "    else:\n",
    "        return False\n",
    "\n",
    "movie_name = list(data[1].keys())[0]\n",
    "\n",
    "max_score = get_max_sim_score(example, movie_name)\n",
    "print(max_score)\n",
    "for uttr in example:\n",
    "    print(fuzzy_match(uttr, movie_name, max_score))"
   ]
  },
  {
   "cell_type": "code",
   "execution_count": 43,
   "id": "de0b1441-3a07-4af3-87d0-712447d94fb1",
   "metadata": {
    "scrolled": true,
    "tags": []
   },
   "outputs": [
    {
     "name": "stdout",
     "output_type": "stream",
     "text": [
      "嗨\n",
      "寻找\n",
      "一部\n",
      "好\n",
      "电影\n",
      "推荐\n",
      "---------------------------\n",
      "特定\n",
      "类型\n",
      "题材\n",
      "电影偏好\n",
      "---------------------------\n",
      "一部\n",
      "全家\n",
      "动画片\n",
      "推荐\n",
      "---------------------------\n",
      "一部\n",
      "全家\n",
      "动画片\n",
      "我可以\n",
      "一部\n",
      "叫做\n",
      "精灵鼠小弟\n",
      "电影\n",
      "电影\n",
      "E·B·怀特\n",
      "童话\n",
      "改编\n",
      "一个\n",
      "小老鼠\n",
      "朋友们\n",
      "人类\n",
      "家庭\n",
      "战胜\n",
      "恶猫\n",
      "故事\n",
      "电影\n",
      "非常\n",
      "全年龄段\n",
      "---------------------------\n",
      "起来\n",
      "不错\n",
      "精灵鼠小弟\n",
      "---------------------------\n",
      "精灵鼠小弟\n",
      "一部\n",
      "1999年\n",
      "好莱坞\n",
      "动画\n",
      "梦工厂\n",
      "罗伯特·泽米吉斯\n",
      "执导\n",
      "电影\n",
      "好评\n",
      "赢得\n",
      "奖项\n",
      "奥斯卡\n",
      "最佳\n",
      "动画\n",
      "长片\n",
      "提名\n",
      "声音\n",
      "阵容\n",
      "大卫·斯佩德\n",
      "霍兰德·泰勒\n",
      "茱莉亚·路易斯-德瑞弗斯和约拿森·利普尼基\n",
      "一部\n",
      "非常\n",
      "动画片\n",
      "全家\n",
      "一起\n",
      "欣赏\n",
      "---------------------------\n",
      "好\n",
      "谢谢\n",
      "推荐\n",
      "现在\n",
      "去\n",
      "---------------------------\n",
      "不用\n",
      "客气\n",
      "精灵鼠小弟\n",
      "随时\n",
      "告诉我\n",
      "---------------------------\n"
     ]
    }
   ],
   "source": [
    "from LAC import LAC\n",
    "lac = LAC(mode='rank')\n",
    "for uttr in example:\n",
    "    result = lac.run(uttr[6:].strip())\n",
    "    words = result[0]\n",
    "    scores = result[2]\n",
    "    for idx in range(len(scores)):\n",
    "        if scores[idx] >1:\n",
    "            print(words[idx])\n",
    "            \n",
    "    print(\"---------------------------\")"
   ]
  },
  {
   "cell_type": "markdown",
   "id": "e16c167f-cdd1-40f8-a5df-725a7e1b5604",
   "metadata": {},
   "source": [
    "### Utterance Process"
   ]
  },
  {
   "cell_type": "code",
   "execution_count": 151,
   "id": "7a581b60-6f54-4810-91f6-b19b0255785f",
   "metadata": {
    "tags": []
   },
   "outputs": [
    {
     "name": "stderr",
     "output_type": "stream",
     "text": [
      "[nltk_data] Downloading package stopwords to /root/nltk_data...\n",
      "[nltk_data]   Package stopwords is already up-to-date!\n"
     ]
    }
   ],
   "source": [
    "from fuzzywuzzy import fuzz\n",
    "import nltk\n",
    "nltk.download('stopwords')\n",
    "from nltk.corpus import stopwords\n",
    "import string\n",
    "from LAC import LAC\n",
    "lac = LAC(mode='rank')\n",
    "\n",
    "def get_max_sim_score(uttrs, movie_name):\n",
    "    max_score = 0 \n",
    "    for uttr in uttrs:\n",
    "        score = fuzz.partial_ratio(uttr, movie_name)\n",
    "        if score > max_score:\n",
    "            max_score = score\n",
    "    return max_score\n",
    "\n",
    "def fuzzy_match(uttr, movie_name, max_score):\n",
    "    # print(fuzz.partial_ratio(uttr, movie_name))\n",
    "    if fuzz.partial_ratio(uttr, movie_name) > 60:\n",
    "        return True\n",
    "    else:\n",
    "        return False\n",
    "\n",
    "# def fuzzy_replace(str_a, str_b, orig_str):\n",
    "#     l = len(str_a.split()) # Length to read orig_str chunk by chunk\n",
    "#     splitted = orig_str.split()\n",
    "#     for i in range(len(splitted)-l+1):\n",
    "#         test = \" \".join(splitted[i:i+l])\n",
    "#         if fuzz.partial_ratio(str_a, test) > 60: #Using fuzzwuzzy library to test ratio\n",
    "#             before = \" \".join(splitted[:i])\n",
    "#             after = \" \".join(splitted[min(len(splitted), i+l):])\n",
    "#             return before+\" \"+str_b+\" \"+after #Output will be sandwich of these three strings\n",
    "\n",
    "\n",
    "def utterance_convert(uttr, movie, max_score):\n",
    "    if uttr[:4] == '[用户]':\n",
    "        role = 'Seeker'\n",
    "    elif uttr[:4] == '[系统]':\n",
    "        role = 'Recommender'\n",
    "    else:\n",
    "        role = None\n",
    "    text = list(uttr[6:].strip())\n",
    "    \n",
    "    movie_mentioned = []\n",
    "    \n",
    "    if fuzzy_match(uttr, movie, max_score):\n",
    "        movie_mentioned.append(movie)\n",
    "    result = lac.run(uttr[6:].strip())\n",
    "    if len(result) < 3:\n",
    "        print(\"uttr: \", uttr)\n",
    "        print(result)\n",
    "    split_word = result[0]\n",
    "    scores = result[2]\n",
    "    entity = []\n",
    "    word = []\n",
    "    target = []\n",
    "    for idx in range(len(scores)):\n",
    "        if scores[idx] > 2:\n",
    "            target.append(split_word[idx])\n",
    "        if scores[idx] > 1:\n",
    "            entity.append(split_word[idx])\n",
    "        if scores[idx] > 0:\n",
    "            word.append(split_word[idx])\n",
    "    return role, text, movie_mentioned, entity, word, target\n",
    "\n",
    "# # Test instance\n",
    "# movies = ['<http://dbpedia.org/resource/Her_Battle_for_Existence>', '<http://dbpedia.org/resource/12_Rounds_(film)>','<http://dbpedia.org/resource/The_Three_Musketeers_(1986_film)>']\n",
    "# movie_ids = {'<http://dbpedia.org/resource/Her_Battle_for_Existence>':101245, '<http://dbpedia.org/resource/12_Rounds_(film)>':123, '<http://dbpedia.org/resource/The_Three_Musketeers_(1986_film)>':456}\n",
    "# uttr1 = \"What kind of movies are you in the mood for?\"\n",
    "# uttr2 = \"Sure, how about 'Her Battle for Existence?' It\\'s a documentary about a woman\\'s journey to overcome a rare and life-threatening disease.'\"\n",
    "# uttr3 = \"You might enjoy '12 Rounds,' which is an action-packed thriller about a cop trying to save his kidnapped girlfriend.\"\n",
    "# uttr4 = \"Have you seen 'The Three Musketeers' from 1986? It\\'s an adventure movie set in 17th century France about three musketeers who protect the king.\"\n",
    "# utterance_convert(uttr4, movies, movie_ids)"
   ]
  },
  {
   "cell_type": "code",
   "execution_count": 152,
   "id": "74bb8381-f9e1-4312-98d1-9d1b284161f5",
   "metadata": {},
   "outputs": [
    {
     "name": "stdout",
     "output_type": "stream",
     "text": [
      "progress:  0.0 % 2023-06-14 09:34:04.041388\n",
      "progress:  3.1264655307175238 % 2023-06-14 09:34:32.355089\n",
      "progress:  6.2529310614350475 % 2023-06-14 09:35:00.626752\n",
      "progress:  9.37939659215257 % 2023-06-14 09:35:29.026509\n",
      "progress:  12.505862122870095 % 2023-06-14 09:35:57.197923\n",
      "progress:  15.63232765358762 % 2023-06-14 09:36:25.879486\n",
      "progress:  18.75879318430514 % 2023-06-14 09:36:54.110523\n",
      "progress:  21.88525871502267 % 2023-06-14 09:37:22.593241\n",
      "progress:  25.01172424574019 % 2023-06-14 09:37:51.282199\n",
      "progress:  28.13818977645772 % 2023-06-14 09:38:19.415521\n",
      "progress:  31.26465530717524 % 2023-06-14 09:38:47.590434\n",
      "progress:  34.391120837892764 % 2023-06-14 09:39:16.025174\n",
      "progress:  37.51758636861028 % 2023-06-14 09:39:44.632880\n",
      "progress:  40.64405189932781 % 2023-06-14 09:40:12.971428\n",
      "progress:  43.77051743004534 % 2023-06-14 09:40:41.225180\n",
      "progress:  46.896982960762855 % 2023-06-14 09:41:09.558390\n",
      "progress:  50.02344849148038 % 2023-06-14 09:41:37.924258\n",
      "progress:  53.149914022197905 % 2023-06-14 09:42:06.015449\n",
      "progress:  56.27637955291544 % 2023-06-14 09:42:34.138390\n",
      "progress:  59.40284508363295 % 2023-06-14 09:43:02.301435\n",
      "progress:  62.52931061435048 % 2023-06-14 09:43:30.049584\n",
      "progress:  65.655776145068 % 2023-06-14 09:43:58.099897\n",
      "progress:  68.78224167578553 % 2023-06-14 09:44:27.071181\n",
      "progress:  71.90870720650305 % 2023-06-14 09:44:55.010842\n",
      "progress:  75.03517273722056 % 2023-06-14 09:45:23.187074\n",
      "progress:  78.16163826793809 % 2023-06-14 09:45:51.437293\n",
      "progress:  81.28810379865563 % 2023-06-14 09:46:19.672257\n",
      "progress:  84.41456932937315 % 2023-06-14 09:46:47.871697\n",
      "progress:  87.54103486009068 % 2023-06-14 09:47:16.924507\n",
      "progress:  90.66750039080819 % 2023-06-14 09:47:45.146738\n",
      "progress:  93.79396592152571 % 2023-06-14 09:48:13.441773\n",
      "progress:  96.92043145224324 % 2023-06-14 09:48:41.859475\n"
     ]
    }
   ],
   "source": [
    "import pandas as pd\n",
    "from fuzzywuzzy import fuzz\n",
    "import tqdm\n",
    "from datetime import datetime\n",
    "from collections import defaultdict\n",
    "\n",
    "def cal_sim(name):\n",
    "    return fuzz.ratio(movie, name)\n",
    "\n",
    "def name_to_link(name, movie_ids):\n",
    "    movie_ids['sim'] = movie_ids['movieName'].apply(lambda x: fuzz.ratio(name, x))\n",
    "    return movie_ids[movie_ids['sim'] == movie_ids['sim'].max()]\n",
    "\n",
    "def check_empty(uttr):\n",
    "    if len(uttr.strip()) == 0:\n",
    "        return False\n",
    "    elif len(uttr[6:].strip()) == 0:\n",
    "        return False\n",
    "    return True\n",
    "\n",
    "# syn_data = []\n",
    "syn_data = defaultdict(dict)\n",
    "\n",
    "for conv_idx, instance in enumerate(data):\n",
    "    if conv_idx % 1000 == 0:\n",
    "        print(\"progress: \", conv_idx / len(data) * 100, \"%\", datetime.now())\n",
    "    syn_data_inst = {}\n",
    "    \n",
    "    # assign conversation id     \n",
    "    conv_id = 'syn_' + str(conv_idx)\n",
    "    syn_data_inst['conv_id'] = conv_id\n",
    "    syn_data_inst['user_id'] = 'syn'\n",
    "    syn_data_inst['messages'] = []\n",
    "    dialog_text = list(instance.values())[0]\n",
    "    dialog_text = dialog_text.replace(\"\\n\", \"\")\n",
    "    strings = re.split(r'\\s*(?=\\[用户\\]|\\[系统\\])', dialog_text)\n",
    "    # Remove empty strings from the list\n",
    "    utterances = [s.strip() for s in strings if s.strip()]\n",
    "    \n",
    "    # utterances = re.split(r'\\n\\n|\\n', list(instance.values())[0])\n",
    "    utterances = list(filter(check_empty, utterances))\n",
    "    utterances = list(filter(None, utterances))\n",
    "    \n",
    "    movie_name = list(instance.keys())[0]\n",
    "    max_score = get_max_sim_score(utterances, movie_name)\n",
    "    \n",
    "    broken_dialog = False\n",
    "    for idx, utterance in enumerate(utterances):\n",
    "        uttr_info = {}\n",
    "        utt_id = idx\n",
    "        role, text, movie_mentioned, entity, word, target = utterance_convert(utterance, movie_name, max_score)\n",
    "        if role is None: \n",
    "            broken_dialog = True\n",
    "        if broken_dialog:\n",
    "            break\n",
    "        else:\n",
    "            uttr_info['local_id'] = idx + 1 \n",
    "            uttr_info['role'] = role\n",
    "            uttr_info['text'] = text\n",
    "            uttr_info['target'] = target\n",
    "            uttr_info['word'] = word\n",
    "            uttr_info['entity'] = entity\n",
    "            uttr_info['movie'] = movie_mentioned\n",
    "            if idx == len(utterances) - 1:\n",
    "                uttr_info['final'] = ['反馈，结束', [None]]\n",
    "            else:\n",
    "                uttr_info['final'] = ['请求推荐', target]\n",
    "                \n",
    "            syn_data_inst['messages'].append(uttr_info)\n",
    "    if broken_dialog:\n",
    "        continue\n",
    "    syn_data[str(entity2id[list(instance.keys())[0]])] = syn_data_inst"
   ]
  },
  {
   "cell_type": "code",
   "execution_count": 153,
   "id": "086f88a9-9720-4d1f-8a0f-e3b0c01a799a",
   "metadata": {
    "tags": []
   },
   "outputs": [],
   "source": [
    "with open('output_dialog_processed_tgredial_dict.json', 'w') as outfile:\n",
    "    json.dump(syn_data, outfile)"
   ]
  },
  {
   "cell_type": "code",
   "execution_count": 142,
   "id": "e101195f-b184-46cb-9a93-187a0b4ac671",
   "metadata": {
    "tags": []
   },
   "outputs": [],
   "source": [
    "with open('output_dialog_processed_tgredial.json', 'w') as outfile:\n",
    "    json.dump(syn_data, outfile)"
   ]
  },
  {
   "cell_type": "code",
   "execution_count": 70,
   "id": "789817c5-e657-4f3e-bddd-54b8ef7e2dbd",
   "metadata": {
    "tags": []
   },
   "outputs": [
    {
     "data": {
      "text/plain": [
       "31985"
      ]
     },
     "execution_count": 70,
     "metadata": {},
     "output_type": "execute_result"
    }
   ],
   "source": [
    "len(data)"
   ]
  },
  {
   "cell_type": "code",
   "execution_count": 71,
   "id": "58591c62-d7a3-45ff-9259-22de80eca951",
   "metadata": {
    "tags": []
   },
   "outputs": [
    {
     "data": {
      "text/plain": [
       "31957"
      ]
     },
     "execution_count": 71,
     "metadata": {},
     "output_type": "execute_result"
    }
   ],
   "source": [
    "len(syn_data)"
   ]
  },
  {
   "cell_type": "code",
   "execution_count": 6,
   "id": "b444af24-9352-445b-b388-7de4a03192a1",
   "metadata": {
    "tags": []
   },
   "outputs": [],
   "source": [
    "data = json.load(open('output_dialog_processed.json', 'r'))"
   ]
  },
  {
   "cell_type": "code",
   "execution_count": 7,
   "id": "cf10e0c9-defa-4892-b206-4ac3bd145422",
   "metadata": {},
   "outputs": [],
   "source": [
    "data.extend(syn_data)"
   ]
  },
  {
   "cell_type": "code",
   "execution_count": 9,
   "id": "6b564d09-70d7-4d5f-83ef-cc1c8d73294f",
   "metadata": {
    "tags": []
   },
   "outputs": [],
   "source": [
    "with open('output_dialog_processed_normal.json', 'w') as outfile:\n",
    "    json.dump(data, outfile)"
   ]
  },
  {
   "cell_type": "code",
   "execution_count": null,
   "id": "fff1483f-e098-4dee-a7ae-0da3bda4734a",
   "metadata": {},
   "outputs": [],
   "source": []
  }
 ],
 "metadata": {
  "kernelspec": {
   "display_name": "Python 3 (ipykernel)",
   "language": "python",
   "name": "python3"
  },
  "language_info": {
   "codemirror_mode": {
    "name": "ipython",
    "version": 3
   },
   "file_extension": ".py",
   "mimetype": "text/x-python",
   "name": "python",
   "nbconvert_exporter": "python",
   "pygments_lexer": "ipython3",
   "version": "3.10.10"
  }
 },
 "nbformat": 4,
 "nbformat_minor": 5
}
