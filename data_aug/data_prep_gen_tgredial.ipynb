{
 "cells": [
  {
   "cell_type": "code",
   "execution_count": 1,
   "id": "9ea176e9-0ea9-4bd7-baed-a8694c726f97",
   "metadata": {
    "tags": []
   },
   "outputs": [],
   "source": [
    "import json\n",
    "entity2id = json.load(open('tgredial_bert/entity2id.json', 'r'))\n",
    "movie_ids = json.load(open('tgredial_bert/movie_ids.json', 'r'))"
   ]
  },
  {
   "cell_type": "code",
   "execution_count": null,
   "id": "da07571d-c081-4f0c-a153-dd21f0706f9c",
   "metadata": {
    "scrolled": true,
    "tags": []
   },
   "outputs": [],
   "source": [
    "entity2id"
   ]
  },
  {
   "cell_type": "code",
   "execution_count": 2,
   "id": "02b215fa-8fab-45b9-8a25-52d9fdaf82c7",
   "metadata": {
    "tags": []
   },
   "outputs": [],
   "source": [
    "id2entity = {v: k for k, v in entity2id.items()}"
   ]
  },
  {
   "cell_type": "code",
   "execution_count": 3,
   "id": "2de0e20b-be0c-45b0-8c93-c8b9f594d2d4",
   "metadata": {
    "tags": []
   },
   "outputs": [],
   "source": [
    "movie_list = []\n",
    "for key in id2entity.keys():\n",
    "    if int(key) in movie_ids:\n",
    "        movie_list.append(id2entity[key])"
   ]
  },
  {
   "cell_type": "code",
   "execution_count": 4,
   "id": "839f6f51-c153-4495-87ee-392bcf6c27f9",
   "metadata": {
    "tags": []
   },
   "outputs": [
    {
     "data": {
      "text/plain": [
       "31985"
      ]
     },
     "execution_count": 4,
     "metadata": {},
     "output_type": "execute_result"
    }
   ],
   "source": [
    "len(movie_list)"
   ]
  },
  {
   "cell_type": "code",
   "execution_count": 14,
   "id": "b08f6f9b-48c3-4572-9790-90d2c1807e7f",
   "metadata": {
    "tags": []
   },
   "outputs": [
    {
     "data": {
      "text/plain": [
       "31983"
      ]
     },
     "execution_count": 14,
     "metadata": {},
     "output_type": "execute_result"
    }
   ],
   "source": [
    "int(len(movie_list)/3) * 3"
   ]
  },
  {
   "cell_type": "code",
   "execution_count": 16,
   "id": "22d53d6e-1cf8-4756-af19-5d2e17d2cb67",
   "metadata": {
    "tags": []
   },
   "outputs": [],
   "source": [
    "import random\n",
    "import numpy as np\n",
    "\n",
    "random.shuffle(movie_list)\n",
    "movies = np.asarray(movie_list[:(int(len(movie_list)/3)*3)]).reshape(int(len(movie_list)/3), 3)"
   ]
  },
  {
   "cell_type": "markdown",
   "id": "61e8a6bd-9dc3-4049-a59f-b4f13052172f",
   "metadata": {
    "tags": []
   },
   "source": [
    "### Sample movies for dialog generation"
   ]
  },
  {
   "cell_type": "code",
   "execution_count": 17,
   "id": "130bf38d-c3ed-4c6e-876e-0165314bf724",
   "metadata": {
    "tags": []
   },
   "outputs": [
    {
     "data": {
      "text/plain": [
       "array([['心魔（1937年陈武扬执导电影）', '哆啦A梦：大雄的恐龙', '哑巴女人哑巴弹'],\n",
       "       ['战斧骨(0)', '逃学威龙（1991-1993年周星驰主演系列电影）',\n",
       "        '铃木商店的当家娘（根据玉冈薰的原作改编的剧情电影）'],\n",
       "       ['死之花', '桑拿惊魂(2016)', '西部女郎'],\n",
       "       ['布鲁克林规则', '全金属狂潮IntotheBlue(0)', '罗马风情 Gente di Roma(2003)'],\n",
       "       ['Storyville(0)', '性的张力短片集(0)', '铜头铁罗汉'],\n",
       "       ['飘香剑雨（1978年台湾电影）', '邻居（1981年郑洞天导演电影）', '流氓督察2'],\n",
       "       ['小美人鱼2：重返大海', '砂之女', '在警局！(2018)'],\n",
       "       ['灵猫 C.A.T(1987)', '飞越黄昏', '今夜你会不会来(0)'],\n",
       "       ['康瑞德家的男孩', '旋转便利店', '沉底鳄'],\n",
       "       ['快乐时光（电影）', '鲁邦三世：去死吧！诺斯特拉达穆斯(1995)', '魔发奇缘：幸福前奏(0)']],\n",
       "      dtype='<U96')"
      ]
     },
     "execution_count": 17,
     "metadata": {},
     "output_type": "execute_result"
    }
   ],
   "source": [
    "movies[:10]"
   ]
  },
  {
   "cell_type": "markdown",
   "id": "85ac8615-14c8-4ac6-b687-507b0707dcd3",
   "metadata": {
    "tags": []
   },
   "source": [
    "#### Test Case "
   ]
  },
  {
   "cell_type": "code",
   "execution_count": 49,
   "id": "21450c2e-ce55-4ace-acbd-9f116abc4dd1",
   "metadata": {
    "tags": []
   },
   "outputs": [],
   "source": [
    "import openai\n",
    "from datetime import datetime\n",
    "openai.api_key = 'YOUR_API_KEY'\n",
    "\n",
    "result = openai.ChatCompletion.create(\n",
    "          model=\"gpt-3.5-turbo-0301\",\n",
    "          messages=[\n",
    "                {\"role\": \"system\", \"content\": \"你帮助自动生成一个多轮次的电影推荐对话，每个发言以[用户]或[系统]开头，并利用提供的电影名作为输入。样例: 电影名 [十面埋伏], 生成对话: [用户]: 嗨，我正在寻找一部好电影看。你有什么推荐吗？[系统]: 当然！你有任何特定类型或题材的电影偏好吗？ [用户]: 我想看一部动作和历史背景的电影。有什么好的选择吗？[系统]: 嗯，如果你对中国历史感兴趣，我可以向你推荐一部叫做《十面埋伏》的电影。这是一部根据中国明朝时期的故事改编的电影，充满了动作和紧张的情节。[用户]: 听起来不错！请告诉我更多关于《十面埋伏》的信息。[系统]: 《十面埋伏》是由中国导演陈凯歌执导的一部史诗动作片。它以明朝末年的战争为背景，讲述了一个关于忍者的故事。影片中，主人公是一支特殊的刺客队伍，他们被派往对抗入侵的敌人。这部电影融合了动作、悬疑和历史元素，剧情扣人心弦，同时也展现了精彩的武术打斗场面。[用户]：太棒了！这个推荐都很适合我。谢谢你的帮助！[系统]：不客气！我很高兴能帮助你找到适合你口味的电影。希望你享受这些推荐，如果你还有其他问题，随时告诉我！\"}, \n",
    "                {\"role\": \"user\", \"content\": \"电影名：['铜头铁罗汉']\"},\n",
    "          ],\n",
    "          stream=True\n",
    "        )"
   ]
  },
  {
   "cell_type": "code",
   "execution_count": 50,
   "id": "88f61e09-e23b-4a97-bf6f-5d2485ce4345",
   "metadata": {
    "tags": []
   },
   "outputs": [],
   "source": [
    "completion_text = ''\n",
    "collected_messages = []\n",
    "for chunk in result:\n",
    "    chunk_message = chunk['choices'][0]['delta']\n",
    "    collected_messages.append(chunk_message)\n",
    "full_reply_content = ''.join([m.get('content', '') for m in collected_messages])"
   ]
  },
  {
   "cell_type": "code",
   "execution_count": 51,
   "id": "478a2169-cf2c-44bd-8859-d1fe3da8e9df",
   "metadata": {
    "tags": []
   },
   "outputs": [
    {
     "data": {
      "text/plain": [
       "'[用户]: 你好，我正在找一部好看的电影，你有什么推荐吗？  \\n[系统]: 当然，你有什么电影类型偏好吗？  \\n[用户]: 我比较喜欢犯罪题材的电影。  \\n[系统]: 那我可以向你推荐一部叫做《铜头铁罗汉》的电影。这是一部充满动作和犯罪元素的电影。  \\n[用户]: 嗯，听起来不错，请你介绍一下这部电影。  \\n[系统]: 《铜头铁罗汉》是由香港导演刘伟强执导的电影，讲述了一个黑帮团伙街头权利之争的故事。影片中，主人公们之间的斗争非常精彩，而主演铜头和铁罗汉两个角色的表现也非常出色。  \\n[用户]: 这个推荐听起来非常不错！你能告诉我更多关于这部电影的信息吗？  \\n[系统]: 当然可以。这部电影拥有一些很棒的演员阵容，包括谷峰、姜皓文和刘家辉等。尤其是主演铜头和铁罗汉两个角色，他们的表现非常精彩，同时影片的动作场景和镜头运用也非常出色，会让你感到非常刺激和热血。  \\n[用户]: 好的，我会去看看这部电影的。谢谢你的推荐！  \\n[系统]: 不用谢，希望你能够喜欢这部电影。如果你还有其他问题，可以随时问我。'"
      ]
     },
     "execution_count": 51,
     "metadata": {},
     "output_type": "execute_result"
    }
   ],
   "source": [
    "full_reply_content"
   ]
  },
  {
   "cell_type": "code",
   "execution_count": 37,
   "id": "7787e808-12c2-439b-be3e-2d69527d6d1c",
   "metadata": {
    "tags": []
   },
   "outputs": [],
   "source": [
    "with open(\"log_5.json\", \"w\") as f:\n",
    "    json.dump(result, f, ensure_ascii=False)"
   ]
  },
  {
   "cell_type": "markdown",
   "id": "6c37349d-da3d-4a9a-8729-50bb4a1c5ba8",
   "metadata": {},
   "source": [
    "### Dialog Generation"
   ]
  },
  {
   "cell_type": "code",
   "execution_count": null,
   "id": "7de370c3-071b-4af4-89d9-ea6e9618b488",
   "metadata": {
    "scrolled": true,
    "tags": []
   },
   "outputs": [],
   "source": [
    "import openai\n",
    "from datetime import datetime\n",
    "from tqdm import tqdm\n",
    "\n",
    "openai.api_key = 'YOUR_API_KEY'\n",
    "\n",
    "def process_str(movie_link):\n",
    "    return ' '.join(movie_link[29:-1].split('_'))\n",
    "\n",
    "results = []\n",
    "unsuccessful_input = []\n",
    "count = 0\n",
    "success = 0\n",
    "for movie in tqdm(movie_list):\n",
    "    try:\n",
    "        movie_names = ' '.join(movie)\n",
    "        # movie = [process_str(link) for link in movie]\n",
    "        # print(\"movie: [\" + movie + \"]\")\n",
    "        result = openai.ChatCompletion.create(\n",
    "          model=\"gpt-3.5-turbo-0301\",\n",
    "          messages=[\n",
    "                {\"role\": \"system\", \"content\": \"你帮助自动生成一个多轮次的电影推荐对话，每个发言以[用户]或[系统]开头，并利用提供的电影名作为输入。样例: 电影名 [十面埋伏], 生成对话: [用户]: 嗨，我正在寻找一部好电影看。你有什么推荐吗？[系统]: 当然！你有任何特定类型或题材的电影偏好吗？ [用户]: 我想看一部动作和历史背景的电影。有什么好的选择吗？[系统]: 嗯，如果你对中国历史感兴趣，我可以向你推荐一部叫做《十面埋伏》的电影。这是一部根据中国明朝时期的故事改编的电影，充满了动作和紧张的情节。[用户]: 听起来不错！请告诉我更多关于《十面埋伏》的信息。[系统]: 《十面埋伏》是由中国导演陈凯歌执导的一部史诗动作片。它以明朝末年的战争为背景，讲述了一个关于忍者的故事。影片中，主人公是一支特殊的刺客队伍，他们被派往对抗入侵的敌人。这部电影融合了动作、悬疑和历史元素，剧情扣人心弦，同时也展现了精彩的武术打斗场面。[用户]：太棒了！这个推荐都很适合我。谢谢你的帮助！[系统]：不客气！我很高兴能帮助你找到适合你口味的电影。希望你享受这些推荐，如果你还有其他问题，随时告诉我！\"}, \n",
    "                {\"role\": \"user\", \"content\": \"电影名：[\" + movie + \"]\"},\n",
    "            ],\n",
    "          stream=True\n",
    "        )\n",
    "        completion_text = ''\n",
    "        collected_messages = []\n",
    "        full_reply_content = ''.join([m['choices'][0]['delta'].get('content', '') for m in result])\n",
    "        # for chunk in result:\n",
    "        #     chunk_message = chunk['choices'][0]['delta']\n",
    "        #     collected_messages.append(chunk_message)\n",
    "        # full_reply_content = ''.join([m.get('content', '') for m in collected_messages])\n",
    "        results.append({movie_names:full_reply_content}) \n",
    "        # print(\"Success \", count, \" \", datetime.now())\n",
    "        success += 1\n",
    "        # print(\"Total Success: \", success)\n",
    "    except Exception as e:\n",
    "        # print(\"Error: \", e)\n",
    "        # print(\"Problematic input: \", count, movie)\n",
    "        unsuccessful_input.append(movie_names)\n",
    "    if count % 1000 == 0 and count != 0:\n",
    "        with open('output_dialog_tgredial_'+ str(count) +'.json', 'w') as outfile:\n",
    "            json.dump(results, outfile, ensure_ascii=False)\n",
    "        results = []\n",
    "    count += 1"
   ]
  },
  {
   "cell_type": "markdown",
   "id": "c24893cc-f1c3-4ba5-bf53-13bcf2163762",
   "metadata": {},
   "source": [
    "# Speed up the generation with multiprocess"
   ]
  },
  {
   "cell_type": "code",
   "execution_count": 23,
   "id": "ff76dacc-f2dc-46df-8611-75ec2188cb1c",
   "metadata": {
    "scrolled": true,
    "tags": []
   },
   "outputs": [
    {
     "data": {
      "application/vnd.jupyter.widget-view+json": {
       "model_id": "d042b79ba6654c408c4480586685070a",
       "version_major": 2,
       "version_minor": 0
      },
      "text/plain": [
       "  0%|          | 0/24 [00:00<?, ?it/s]"
      ]
     },
     "metadata": {},
     "output_type": "display_data"
    },
    {
     "name": "stdout",
     "output_type": "stream",
     "text": [
      "Error:  That model is currently overloaded with other requests. You can retry your request, or contact us through our help center at help.openai.com if the error persists. (Please include the request ID 89d0b6f35a917f88eb4fee3dace85ec2 in your message.)\n",
      "Problematic input:  穿越西伯利亚\n"
     ]
    }
   ],
   "source": [
    "from p_tqdm import p_map\n",
    "import multiprocessing\n",
    "import openai\n",
    "from datetime import datetime\n",
    "from tqdm import tqdm\n",
    "\n",
    "openai.api_key = 'YOUR_API_KEY'\n",
    "\n",
    "def dialogue_generation(movie):\n",
    "    result = None\n",
    "    while result is None:\n",
    "        try:\n",
    "            # print(\"processing: \", movie)\n",
    "            result = openai.ChatCompletion.create(\n",
    "              model=\"gpt-3.5-turbo-0301\",\n",
    "              messages=[\n",
    "                    {\"role\": \"system\", \"content\": \"你帮助自动生成一个多轮次的电影推荐对话，每个发言以[用户]或[系统]开头，并利用提供的电影名作为输入。样例: 电影名 [十面埋伏], 生成对话: [用户]: 嗨，我正在寻找一部好电影看。你有什么推荐吗？[系统]: 当然！你有任何特定类型或题材的电影偏好吗？ [用户]: 我想看一部动作和历史背景的电影。有什么好的选择吗？[系统]: 嗯，如果你对中国历史感兴趣，我可以向你推荐一部叫做《十面埋伏》的电影。这是一部根据中国明朝时期的故事改编的电影，充满了动作和紧张的情节。[用户]: 听起来不错！请告诉我更多关于《十面埋伏》的信息。[系统]: 《十面埋伏》是由中国导演陈凯歌执导的一部史诗动作片。它以明朝末年的战争为背景，讲述了一个关于忍者的故事。影片中，主人公是一支特殊的刺客队伍，他们被派往对抗入侵的敌人。这部电影融合了动作、悬疑和历史元素，剧情扣人心弦，同时也展现了精彩的武术打斗场面。[用户]：太棒了！这个推荐都很适合我。谢谢你的帮助！[系统]：不客气！我很高兴能帮助你找到适合你口味的电影。希望你享受这些推荐，如果你还有其他问题，随时告诉我！\"}, \n",
    "                    {\"role\": \"user\", \"content\": \"电影名：[\" + movie + \"]\"},\n",
    "                ],\n",
    "              stream=True\n",
    "            )\n",
    "            completion_text = ''\n",
    "            collected_messages = []\n",
    "            full_reply_content = ''.join([m['choices'][0]['delta'].get('content', '') for m in result])\n",
    "            result = {movie:full_reply_content}\n",
    "            return {movie:full_reply_content}\n",
    "        except Exception as e:\n",
    "            print(\"Error: \", e)\n",
    "            print(\"Problematic input: \", movie)\n",
    "            pass\n",
    "\n",
    "if __name__ == '__main__':\n",
    "    # pool = multiprocessing.Pool(processes=10)\n",
    "    results = p_map(dialogue_generation, missing_generation, num_cpus=20)\n",
    "    # pool.close()\n",
    "    # pool.join()\n",
    "    \n",
    "    # with open('output_dialog_tgredial.json', 'w') as outfile:\n",
    "    #     json.dump(results_2, outfile, ensure_ascii=False)\n",
    "    \n",
    "    # with open('results.txt', 'w') as file:\n",
    "    #     for result in results:\n",
    "    #         file.write(str(result) + '\\n')"
   ]
  },
  {
   "cell_type": "markdown",
   "id": "55a48870-fcc0-408e-9d47-b2edd1407d1f",
   "metadata": {},
   "source": [
    "## Address the missing generation"
   ]
  },
  {
   "cell_type": "code",
   "execution_count": 21,
   "id": "cc64b29a-2445-42d3-a690-e468082c151f",
   "metadata": {
    "tags": []
   },
   "outputs": [],
   "source": [
    "generated_results = json.load(open('output_dialog_tgredial_updated.json', 'r'))\n",
    "missing_generation = []\n",
    "for dialogue in generated_results:\n",
    "    if list(dialogue.values())[0] == 'Failed':\n",
    "        missing_generation.append(list(dialogue.keys())[0])"
   ]
  },
  {
   "cell_type": "code",
   "execution_count": 24,
   "id": "83dec9b9-9272-45d9-af3f-fee392f7f278",
   "metadata": {
    "tags": []
   },
   "outputs": [],
   "source": [
    "for dialogue in results:\n",
    "    if dialogue == None:\n",
    "        print(dialogue)\n",
    "        continue\n",
    "    for ori_dialogue in generated_results:\n",
    "        if dialogue.keys() == ori_dialogue.keys():\n",
    "            ori_dialogue[list(dialogue.keys())[0]] = list(dialogue.values())[0]"
   ]
  },
  {
   "cell_type": "code",
   "execution_count": 25,
   "id": "424ad6eb-3d32-4c82-a811-ac49987007a4",
   "metadata": {
    "tags": []
   },
   "outputs": [],
   "source": [
    "with open('output_dialog_tgredial_final.json', 'w') as outfile:\n",
    "    json.dump(generated_results, outfile, ensure_ascii=False)"
   ]
  },
  {
   "cell_type": "code",
   "execution_count": 13,
   "id": "55787c23-92ea-4b41-b54a-66ddf936997b",
   "metadata": {
    "tags": []
   },
   "outputs": [
    {
     "name": "stdout",
     "output_type": "stream",
     "text": [
      "1260\n"
     ]
    }
   ],
   "source": [
    "print(len(missing_generation))"
   ]
  },
  {
   "cell_type": "code",
   "execution_count": 7,
   "id": "f0496419-08af-4299-9989-811ff9503970",
   "metadata": {
    "tags": []
   },
   "outputs": [
    {
     "data": {
      "text/plain": [
       "31985"
      ]
     },
     "execution_count": 7,
     "metadata": {},
     "output_type": "execute_result"
    }
   ],
   "source": [
    "len(results)"
   ]
  },
  {
   "cell_type": "code",
   "execution_count": 56,
   "id": "24fa189c-2783-478d-b950-81afa03b3cf2",
   "metadata": {
    "tags": []
   },
   "outputs": [],
   "source": [
    "with open('output_dialog_tgredial_'+ str(count) +'.json', 'w') as outfile:\n",
    "    json.dump(results, outfile, ensure_ascii=False)"
   ]
  },
  {
   "cell_type": "code",
   "execution_count": null,
   "id": "bf07fbb1-9f49-4612-a956-5cf41937019e",
   "metadata": {
    "tags": []
   },
   "outputs": [],
   "source": [
    "with open('output_dialog_tgredial_100_test.json', 'w') as outfile:\n",
    "    json.dump(results, outfile, ensure_ascii=False)"
   ]
  },
  {
   "cell_type": "markdown",
   "id": "b8bd81f9-023e-4942-9881-2399a5874899",
   "metadata": {},
   "source": [
    "### Identify Missing Examples"
   ]
  },
  {
   "cell_type": "code",
   "execution_count": 105,
   "id": "4606b72f-b863-4302-b445-72340dd2ed95",
   "metadata": {
    "tags": []
   },
   "outputs": [
    {
     "name": "stdout",
     "output_type": "stream",
     "text": [
      "progress:  0.0 % 2023-04-30 13:13:03.989238\n",
      "progress:  21.008403361344538 % 2023-04-30 13:13:03.990242\n",
      "progress:  42.016806722689076 % 2023-04-30 13:13:03.991147\n",
      "progress:  63.02521008403361 % 2023-04-30 13:13:03.992053\n",
      "progress:  84.03361344537815 % 2023-04-30 13:13:03.992941\n"
     ]
    }
   ],
   "source": [
    "data = json.load(open('output_dialog_missing_1.json', 'r'))\n",
    "\n",
    "broken_instance = []\n",
    "for conv_idx, instance in enumerate(data):\n",
    "    if conv_idx % 100 == 0:\n",
    "        print(\"progress: \", conv_idx / len(data) * 100, \"%\", datetime.now())\n",
    "    broken_dialog = False\n",
    "    utterances = list(instance.values())[0]['choices'][0]['message']['content'].split('\\n')\n",
    "    utterances = list(filter(None, utterances))\n",
    "    for idx, utterance in enumerate(utterances):\n",
    "        utterance = utterance.strip()\n",
    "        if utterance[:6].lower() == '[user]':\n",
    "            continue\n",
    "        elif utterance[:8].lower() == '[system]':\n",
    "            continue\n",
    "        else:\n",
    "            broken_dialog = True\n",
    "        if broken_dialog:\n",
    "            print(utterances)\n",
    "            break\n",
    "    # if not broken_dialog:\n",
    "    #     movies = list(instance.keys())[0]\n",
    "    #     for movie in movies.split(' '):\n",
    "    #         if movie not in movie_list:\n",
    "    #             print(movie)\n",
    "    #         else:\n",
    "    #             movie_list.remove(movie)\n",
    "    # else:\n",
    "    #     continue\n",
    "    if broken_dialog:\n",
    "        broken_instance.append(list(instance.keys())[0])\n",
    "        del data[conv_idx]"
   ]
  },
  {
   "cell_type": "code",
   "execution_count": 106,
   "id": "8f521eca-6d00-48b5-91b4-65fcef6740ba",
   "metadata": {
    "tags": []
   },
   "outputs": [
    {
     "data": {
      "text/plain": [
       "476"
      ]
     },
     "execution_count": 106,
     "metadata": {},
     "output_type": "execute_result"
    }
   ],
   "source": [
    "len(data)"
   ]
  },
  {
   "cell_type": "code",
   "execution_count": 103,
   "id": "891afb58-adb0-473f-9d4c-0ee5265f84dc",
   "metadata": {
    "tags": []
   },
   "outputs": [
    {
     "data": {
      "text/plain": [
       "[]"
      ]
     },
     "execution_count": 103,
     "metadata": {},
     "output_type": "execute_result"
    }
   ],
   "source": [
    "broken_instance"
   ]
  },
  {
   "cell_type": "code",
   "execution_count": 97,
   "id": "22e02342-f0fd-41ff-a06e-ee6f6aee9781",
   "metadata": {
    "tags": []
   },
   "outputs": [],
   "source": [
    "with open('output_dialog_saved_2.json', 'w') as outfile:\n",
    "    json.dump(data, outfile)"
   ]
  },
  {
   "cell_type": "code",
   "execution_count": 86,
   "id": "19c8218c-d423-490f-a467-6cee942a7898",
   "metadata": {
    "tags": []
   },
   "outputs": [
    {
     "data": {
      "text/plain": [
       "'<http://dbpedia.org/resource/The_Frozen_Ground> <http://dbpedia.org/resource/Jeremiah_Johnson_(film)> <http://dbpedia.org/resource/Beyond_the_Law_(1992_film)>'"
      ]
     },
     "execution_count": 86,
     "metadata": {},
     "output_type": "execute_result"
    }
   ],
   "source": [
    "broken_instance"
   ]
  },
  {
   "cell_type": "code",
   "execution_count": 79,
   "id": "a36c5512-b0b7-481a-bf84-b74b1cb5b025",
   "metadata": {
    "tags": []
   },
   "outputs": [
    {
     "data": {
      "text/plain": [
       "1429"
      ]
     },
     "execution_count": 79,
     "metadata": {},
     "output_type": "execute_result"
    }
   ],
   "source": [
    "len(movie_list)"
   ]
  },
  {
   "cell_type": "markdown",
   "id": "1785d6f0-80ad-4648-95c9-9236be95682f",
   "metadata": {},
   "source": [
    "### Generate Missing Instances"
   ]
  },
  {
   "cell_type": "code",
   "execution_count": 80,
   "id": "7de0a10c-fa2d-42b6-ad9d-143885cafe64",
   "metadata": {
    "tags": []
   },
   "outputs": [],
   "source": [
    "import random\n",
    "random.shuffle(movie_list)\n",
    "movies = np.asarray(movie_list[:1428]).reshape(476, 3)"
   ]
  },
  {
   "cell_type": "code",
   "execution_count": null,
   "id": "22124ada-efe3-4017-a793-58d4572f8641",
   "metadata": {
    "scrolled": true,
    "tags": []
   },
   "outputs": [],
   "source": [
    "import openai\n",
    "from datetime import datetime\n",
    "openai.api_key = 'YOUR_API_KEY'\n",
    "\n",
    "def process_str(movie_link):\n",
    "    return ' '.join(movie_link[29:-1].split('_'))\n",
    "\n",
    "results = []\n",
    "unsuccessful_input = []\n",
    "count = 0\n",
    "success = 0\n",
    "for movie in movies:\n",
    "    try:\n",
    "        movie_links = ' '.join(movie)\n",
    "        movie = [process_str(link) for link in movie]\n",
    "        print(\"movie list: [\" + ', '.join(movie) + \"]\")\n",
    "        result = openai.ChatCompletion.create(\n",
    "          model=\"gpt-3.5-turbo\",\n",
    "          messages=[\n",
    "                {\"role\": \"system\", \"content\": \"You help in generating a mix-initiative synthetic multi-turn conversational recommendation dialog, each utterance starts with [user] or [system], by leveraging a list of mentioned movies as input.  Example: movie list: [Don't Look Up (2021), The Lost Daughter (2021)] dialog: [user]: Hi, can you suggest me some movies to watch? [system]: what kinds of movies do you like? [user]: Some recent popular movies could be considered. [system]: How about Don't Loop Up, which is quite popular and widely discussed. [user]: I have heard about it, but it is not what I would be interested. [system]: How about the lost daughter instead? [user]: What is it about? [system]: It is about a woman Leda Caruso who while on a summer holiday, finds herself becoming obsessed with another woman and her daughter on the beach. [user]: sounds interesting. Thanks for recommendation. [system]: You are welcome.\"}, \n",
    "                {\"role\": \"user\", \"content\": \"movie list: [\" + ', '.join(movie) + \"]\"},\n",
    "            ]\n",
    "        )\n",
    "        results.append({movie_links:result}) \n",
    "        print(\"Success \", count, \" \", datetime.now())\n",
    "        success += 1\n",
    "        print(\"Total Success: \", success)\n",
    "    except Exception as e:\n",
    "        print(\"Error: \", e)\n",
    "        print(\"Problematic input: \", count, movie)\n",
    "        unsuccessful_input.append(movie_links)\n",
    "    count += 1"
   ]
  },
  {
   "cell_type": "code",
   "execution_count": 82,
   "id": "1a5e2f76-3415-4530-89f0-835fbd7368c1",
   "metadata": {
    "tags": []
   },
   "outputs": [],
   "source": [
    "with open('output_dialog_missing_1.json', 'w') as outfile:\n",
    "    json.dump(results, outfile)"
   ]
  },
  {
   "cell_type": "code",
   "execution_count": null,
   "id": "e3afdc1a-cfb4-4e77-a57e-2ea7d3c5da03",
   "metadata": {},
   "outputs": [],
   "source": []
  }
 ],
 "metadata": {
  "kernelspec": {
   "display_name": "Python 3 (ipykernel)",
   "language": "python",
   "name": "python3"
  },
  "language_info": {
   "codemirror_mode": {
    "name": "ipython",
    "version": 3
   },
   "file_extension": ".py",
   "mimetype": "text/x-python",
   "name": "python",
   "nbconvert_exporter": "python",
   "pygments_lexer": "ipython3",
   "version": "3.10.6"
  }
 },
 "nbformat": 4,
 "nbformat_minor": 5
}
