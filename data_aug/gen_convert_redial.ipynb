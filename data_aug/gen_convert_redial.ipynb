{
 "cells": [
  {
   "cell_type": "code",
   "execution_count": 13,
   "id": "01522474-da0b-4b63-acef-b5db75974f4c",
   "metadata": {
    "tags": []
   },
   "outputs": [],
   "source": [
    "import json\n",
    "# data = json.load(open('output_dialog_missing_1.json', 'r'))\n",
    "data = json.load(open('output_dialog_redial.json', 'r'))"
   ]
  },
  {
   "cell_type": "code",
   "execution_count": 3,
   "id": "a2a2d416-0156-48ff-ba95-2a7bd531e7de",
   "metadata": {
    "tags": []
   },
   "outputs": [
    {
     "data": {
      "text/plain": [
       "'<http://dbpedia.org/resource/The_Thin_Red_Line_(1998_film)>'"
      ]
     },
     "execution_count": 3,
     "metadata": {},
     "output_type": "execute_result"
    }
   ],
   "source": [
    "# Get the mentioned movies\n",
    "# with multiple movies\n",
    "list(data[0].keys())[0].split(' ')\n",
    "# with individual movies\n",
    "list(data[0].keys())[0]"
   ]
  },
  {
   "cell_type": "code",
   "execution_count": 15,
   "id": "571a2108-a821-4b33-b8ae-cd9e5079d8c6",
   "metadata": {
    "tags": []
   },
   "outputs": [],
   "source": [
    "entity2id = json.load(open('redial_nltk/entity2id.json', 'r'))"
   ]
  },
  {
   "cell_type": "code",
   "execution_count": 16,
   "id": "b64dae3b-6139-4bc0-9f30-cdc8a8945384",
   "metadata": {
    "tags": []
   },
   "outputs": [
    {
     "data": {
      "text/plain": [
       "3"
      ]
     },
     "execution_count": 16,
     "metadata": {},
     "output_type": "execute_result"
    }
   ],
   "source": [
    "entity2id[list(data[0].keys())[0]]"
   ]
  },
  {
   "cell_type": "code",
   "execution_count": 7,
   "id": "ed8cbc8c-5c26-4313-8328-ed518a9b5af0",
   "metadata": {
    "tags": []
   },
   "outputs": [
    {
     "data": {
      "text/plain": [
       "[\"[user]: Hey, I'm in the mood for a movie. Do you have any recommendations? \",\n",
       " \"[system]: Of course! How about The Thin Red Line? It's a 1998 war film directed by Terrence Malick that explores the World War II Battle of Guadalcanal through the perspective of various soldiers. \",\n",
       " \"[user]: Hmm, I'm not really into war movies, are there any other genres you recommend? \",\n",
       " \"[system]: Sure thing! If you're looking for something in the same vein as The Thin Red Line, I would recommend Saving Private Ryan. If you're looking for something different, Though, I'd suggest perhaps a classic comedy like The Pink Panther. \",\n",
       " '[user]: I think The Pink Panther sounds good. Is it a silly comedy or more of a dark humor kind of thing? ',\n",
       " \"[system]: The Pink Panther is definitely more of a silly comedy! It's a classic film from the sixties that follows Inspector Clouseau, played by Peter Sellers, on his hilarious attempt to catch a jewel thief. \",\n",
       " '[user]: Sounds like a great pick-me-up. Thanks for the recommendation! ',\n",
       " '[system]: No problem at all! Have fun watching The Pink Panther, and if you need any more suggestions or have any questions, just let me know!']"
      ]
     },
     "execution_count": 7,
     "metadata": {},
     "output_type": "execute_result"
    }
   ],
   "source": [
    "import re\n",
    "# Get the utterances\n",
    "# list(data[0].values())[0]['choices'][0]['message']['content'].split('\\n')\n",
    "re.split(r'\\n\\n|\\n', list(data[0].values())[0])"
   ]
  },
  {
   "cell_type": "markdown",
   "id": "e16c167f-cdd1-40f8-a5df-725a7e1b5604",
   "metadata": {},
   "source": [
    "### Utterance Process"
   ]
  },
  {
   "cell_type": "code",
   "execution_count": 18,
   "id": "7a581b60-6f54-4810-91f6-b19b0255785f",
   "metadata": {
    "tags": []
   },
   "outputs": [
    {
     "name": "stderr",
     "output_type": "stream",
     "text": [
      "[nltk_data] Downloading package stopwords to /root/nltk_data...\n",
      "[nltk_data]   Package stopwords is already up-to-date!\n"
     ]
    }
   ],
   "source": [
    "from fuzzywuzzy import fuzz\n",
    "import nltk\n",
    "nltk.download('stopwords')\n",
    "from nltk.corpus import stopwords\n",
    "import string\n",
    "\n",
    "def fuzzy_match(uttr, movie_name):\n",
    "    # print(fuzz.partial_ratio(uttr, movie_name))\n",
    "    if fuzz.partial_ratio(uttr, movie_name) > 60:\n",
    "        return True\n",
    "    else:\n",
    "        return False\n",
    "\n",
    "def fuzzy_replace(str_a, str_b, orig_str):\n",
    "    l = len(str_a.split()) # Length to read orig_str chunk by chunk\n",
    "    splitted = orig_str.split()\n",
    "    for i in range(len(splitted)-l+1):\n",
    "        test = \" \".join(splitted[i:i+l])\n",
    "        if fuzz.partial_ratio(str_a, test) > 60: #Using fuzzwuzzy library to test ratio\n",
    "            before = \" \".join(splitted[:i])\n",
    "            after = \" \".join(splitted[min(len(splitted), i+l):])\n",
    "            return before+\" \"+str_b+\" \"+after #Output will be sandwich of these three strings\n",
    "\n",
    "\n",
    "def utterance_convert(uttr, movies, movie_ids):\n",
    "    uttr = uttr.lower()\n",
    "    new_uttr = ''\n",
    "    for char in uttr:\n",
    "        if char not in string.punctuation:\n",
    "            new_uttr += char\n",
    "    uttr = new_uttr\n",
    "    movie_mentioned = []\n",
    "    for movie in movies:\n",
    "        if fuzzy_match(uttr, ' '.join(movie[29:-1].split('_'))):\n",
    "            uttr = fuzzy_replace(' '.join(movie[29:-1].split('_')), \"@\" + str(movie_ids[movie]), uttr)\n",
    "            movie_mentioned.append(movie)\n",
    "            break\n",
    "    if uttr is None:\n",
    "        text = []\n",
    "    else:\n",
    "        text = uttr.split(' ')\n",
    "    filtered_words = [word for word in text if word not in stopwords.words('english')]\n",
    "    return text, filtered_words, movie_mentioned\n",
    "\n",
    "# # Test instance\n",
    "# movies = ['<http://dbpedia.org/resource/Her_Battle_for_Existence>', '<http://dbpedia.org/resource/12_Rounds_(film)>','<http://dbpedia.org/resource/The_Three_Musketeers_(1986_film)>']\n",
    "# movie_ids = {'<http://dbpedia.org/resource/Her_Battle_for_Existence>':101245, '<http://dbpedia.org/resource/12_Rounds_(film)>':123, '<http://dbpedia.org/resource/The_Three_Musketeers_(1986_film)>':456}\n",
    "# uttr1 = \"What kind of movies are you in the mood for?\"\n",
    "# uttr2 = \"Sure, how about 'Her Battle for Existence?' It\\'s a documentary about a woman\\'s journey to overcome a rare and life-threatening disease.'\"\n",
    "# uttr3 = \"You might enjoy '12 Rounds,' which is an action-packed thriller about a cop trying to save his kidnapped girlfriend.\"\n",
    "# uttr4 = \"Have you seen 'The Three Musketeers' from 1986? It\\'s an adventure movie set in 17th century France about three musketeers who protect the king.\"\n",
    "# utterance_convert(uttr4, movies, movie_ids)"
   ]
  },
  {
   "cell_type": "code",
   "execution_count": 22,
   "id": "74bb8381-f9e1-4312-98d1-9d1b284161f5",
   "metadata": {
    "scrolled": true,
    "tags": []
   },
   "outputs": [
    {
     "name": "stdout",
     "output_type": "stream",
     "text": [
      "progress:  0.0 % 2023-06-14 09:22:21.268047\n",
      "progress:  1.6361256544502618 % 2023-06-14 09:23:00.377913\n",
      "progress:  3.2722513089005236 % 2023-06-14 09:23:38.827619\n",
      "progress:  4.908376963350785 % 2023-06-14 09:24:17.280930\n",
      "progress:  6.544502617801047 % 2023-06-14 09:24:56.635441\n",
      "progress:  8.180628272251308 % 2023-06-14 09:25:34.006651\n",
      "progress:  9.81675392670157 % 2023-06-14 09:26:13.130576\n",
      "progress:  11.452879581151834 % 2023-06-14 09:26:51.927454\n",
      "progress:  13.089005235602095 % 2023-06-14 09:27:29.479976\n",
      "progress:  14.725130890052357 % 2023-06-14 09:28:08.466045\n",
      "progress:  16.361256544502616 % 2023-06-14 09:28:45.841109\n",
      "progress:  17.99738219895288 % 2023-06-14 09:29:23.564729\n",
      "progress:  19.63350785340314 % 2023-06-14 09:30:02.544655\n",
      "progress:  21.269633507853403 % 2023-06-14 09:30:41.327822\n",
      "progress:  22.905759162303667 % 2023-06-14 09:31:19.686817\n",
      "progress:  24.541884816753925 % 2023-06-14 09:31:58.122173\n",
      "progress:  26.17801047120419 % 2023-06-14 09:32:36.376897\n",
      "progress:  27.81413612565445 % 2023-06-14 09:33:14.961810\n",
      "progress:  29.450261780104714 % 2023-06-14 09:33:55.440259\n",
      "progress:  31.086387434554975 % 2023-06-14 09:34:33.274886\n",
      "progress:  32.72251308900523 % 2023-06-14 09:35:10.679779\n",
      "progress:  34.3586387434555 % 2023-06-14 09:35:51.950986\n",
      "progress:  35.99476439790576 % 2023-06-14 09:36:31.261288\n",
      "progress:  37.63089005235602 % 2023-06-14 09:37:10.370560\n",
      "progress:  39.26701570680628 % 2023-06-14 09:37:49.391248\n",
      "progress:  40.903141361256544 % 2023-06-14 09:38:27.623112\n",
      "progress:  42.539267015706805 % 2023-06-14 09:39:06.487125\n",
      "progress:  44.175392670157066 % 2023-06-14 09:39:47.125794\n",
      "progress:  45.811518324607334 % 2023-06-14 09:40:26.567758\n",
      "progress:  47.44764397905759 % 2023-06-14 09:41:05.275895\n",
      "progress:  49.08376963350785 % 2023-06-14 09:41:45.107023\n",
      "progress:  50.71989528795812 % 2023-06-14 09:42:25.352016\n",
      "progress:  52.35602094240838 % 2023-06-14 09:43:02.976732\n",
      "progress:  53.99214659685864 % 2023-06-14 09:43:40.582802\n",
      "progress:  55.6282722513089 % 2023-06-14 09:44:19.119805\n",
      "progress:  57.264397905759154 % 2023-06-14 09:45:00.226921\n",
      "progress:  58.90052356020943 % 2023-06-14 09:45:37.251843\n",
      "progress:  60.53664921465969 % 2023-06-14 09:46:17.125544\n",
      "progress:  62.17277486910995 % 2023-06-14 09:46:56.237079\n",
      "progress:  63.80890052356021 % 2023-06-14 09:47:36.534312\n",
      "progress:  65.44502617801047 % 2023-06-14 09:48:15.225316\n",
      "progress:  67.08115183246073 % 2023-06-14 09:48:55.559713\n",
      "progress:  68.717277486911 % 2023-06-14 09:49:33.133426\n",
      "progress:  70.35340314136126 % 2023-06-14 09:50:12.169975\n",
      "progress:  71.98952879581152 % 2023-06-14 09:50:51.550834\n",
      "progress:  73.62565445026178 % 2023-06-14 09:51:30.647746\n",
      "progress:  75.26178010471205 % 2023-06-14 09:52:09.376347\n",
      "progress:  76.8979057591623 % 2023-06-14 09:52:48.905329\n",
      "progress:  78.53403141361257 % 2023-06-14 09:53:26.033081\n",
      "progress:  80.17015706806284 % 2023-06-14 09:54:03.651660\n",
      "progress:  81.80628272251309 % 2023-06-14 09:54:42.737187\n",
      "progress:  83.44240837696336 % 2023-06-14 09:55:21.998844\n",
      "progress:  85.07853403141361 % 2023-06-14 09:56:00.265468\n",
      "progress:  86.71465968586386 % 2023-06-14 09:56:39.177099\n",
      "progress:  88.35078534031413 % 2023-06-14 09:57:16.811360\n",
      "progress:  89.9869109947644 % 2023-06-14 09:57:55.300322\n",
      "progress:  91.62303664921467 % 2023-06-14 09:58:36.462591\n",
      "progress:  93.25916230366492 % 2023-06-14 09:59:15.006560\n",
      "progress:  94.89528795811518 % 2023-06-14 09:59:53.562834\n",
      "progress:  96.53141361256544 % 2023-06-14 10:00:32.177207\n",
      "progress:  98.1675392670157 % 2023-06-14 10:01:09.890210\n",
      "progress:  99.80366492146598 % 2023-06-14 10:01:47.774309\n"
     ]
    }
   ],
   "source": [
    "import pandas as pd\n",
    "from fuzzywuzzy import fuzz\n",
    "import tqdm\n",
    "from datetime import datetime\n",
    "import re\n",
    "from collections import defaultdict\n",
    "\n",
    "def cal_sim(name):\n",
    "    return fuzz.ratio(movie, name)\n",
    "\n",
    "def name_to_link(name, movie_ids):\n",
    "    movie_ids['sim'] = movie_ids['movieName'].apply(lambda x: fuzz.ratio(name, x))\n",
    "    return movie_ids[movie_ids['sim'] == movie_ids['sim'].max()]\n",
    "\n",
    "movie_ids = pd.read_csv('redial_nltk/movies_with_mentions.csv')\n",
    "syn_data = defaultdict(dict)\n",
    "\n",
    "for conv_idx, instance in enumerate(data):\n",
    "    if conv_idx % 100 == 0:\n",
    "        print(\"progress: \", conv_idx / len(data) * 100, \"%\", datetime.now())\n",
    "    syn_data_inst = {}\n",
    "    movie2id = {}\n",
    "    potential_mentioned_movies = list(instance.keys())[0].split(' ')\n",
    "    for movie in potential_mentioned_movies:\n",
    "        movie2id[movie] = list(name_to_link(' '.join(movie[29:-1].split('_')), movie_ids)['movieId'])[0]\n",
    "    \n",
    "    # assign conversation id     \n",
    "    conv_id = 'syn_' + str(conv_idx)\n",
    "    syn_data_inst['conv_id'] = conv_id\n",
    "    \n",
    "    syn_data_inst['dialog'] = []\n",
    "    # utterances = list(instance.values())[0]['choices'][0]['message']['content'].split('\\n')\n",
    "    utterances = re.split(r'\\n\\n|\\n', list(data[0].values())[0])\n",
    "    utterances = list(filter(None, utterances))\n",
    "    \n",
    "    broken_dialog = False\n",
    "    for idx, utterance in enumerate(utterances):\n",
    "        uttr_info = {}\n",
    "        utt_id = idx\n",
    "        if utterance[:6].lower() == '[user]':\n",
    "            role = 'Seeker'\n",
    "            text, filtered_words, movie_mentioned = utterance_convert(utterance[7:], potential_mentioned_movies, movie2id)\n",
    "        elif utterance[:8].lower() == '[system]':\n",
    "            role = 'Recommender'\n",
    "            text, filtered_words, movie_mentioned = utterance_convert(utterance[9:], potential_mentioned_movies, movie2id)\n",
    "        else:\n",
    "            broken_dialog = True\n",
    "        if broken_dialog:\n",
    "            break\n",
    "        else:\n",
    "            uttr_info['uttr_id'] = idx\n",
    "            uttr_info['role'] = role\n",
    "            uttr_info['text'] = text\n",
    "            uttr_info['word'] = filtered_words\n",
    "            uttr_info['entity'] = []\n",
    "            uttr_info['movies'] = movie_mentioned\n",
    "            syn_data_inst['dialog'].append(uttr_info)\n",
    "    if broken_dialog:\n",
    "        continue\n",
    "    syn_data[str(entity2id[list(instance.keys())[0]])] = syn_data_inst"
   ]
  },
  {
   "cell_type": "code",
   "execution_count": 23,
   "id": "ba52dd59-8e0a-432e-a9e6-4b3776a8802b",
   "metadata": {
    "tags": []
   },
   "outputs": [],
   "source": [
    "with open('output_dialog_processed_redial_dict.json', 'w') as outfile:\n",
    "    json.dump(syn_data, outfile)"
   ]
  },
  {
   "cell_type": "code",
   "execution_count": 10,
   "id": "55bb7556-c56c-46e9-ba77-409f4753acc1",
   "metadata": {
    "tags": []
   },
   "outputs": [],
   "source": [
    "with open('output_dialog_processed_redial.json', 'w') as outfile:\n",
    "    json.dump(syn_data, outfile)"
   ]
  },
  {
   "cell_type": "code",
   "execution_count": 4,
   "id": "e101195f-b184-46cb-9a93-187a0b4ac671",
   "metadata": {
    "tags": []
   },
   "outputs": [],
   "source": [
    "with open('output_dialog_processed_2.json', 'w') as outfile:\n",
    "    json.dump(syn_data, outfile)"
   ]
  },
  {
   "cell_type": "code",
   "execution_count": 6,
   "id": "b444af24-9352-445b-b388-7de4a03192a1",
   "metadata": {
    "tags": []
   },
   "outputs": [],
   "source": [
    "data = json.load(open('output_dialog_processed.json', 'r'))"
   ]
  },
  {
   "cell_type": "code",
   "execution_count": 7,
   "id": "cf10e0c9-defa-4892-b206-4ac3bd145422",
   "metadata": {},
   "outputs": [],
   "source": [
    "data.extend(syn_data)"
   ]
  },
  {
   "cell_type": "code",
   "execution_count": 9,
   "id": "6b564d09-70d7-4d5f-83ef-cc1c8d73294f",
   "metadata": {
    "tags": []
   },
   "outputs": [],
   "source": [
    "with open('output_dialog_processed_normal.json', 'w') as outfile:\n",
    "    json.dump(data, outfile)"
   ]
  },
  {
   "cell_type": "code",
   "execution_count": null,
   "id": "fff1483f-e098-4dee-a7ae-0da3bda4734a",
   "metadata": {},
   "outputs": [],
   "source": []
  }
 ],
 "metadata": {
  "kernelspec": {
   "display_name": "Python 3 (ipykernel)",
   "language": "python",
   "name": "python3"
  },
  "language_info": {
   "codemirror_mode": {
    "name": "ipython",
    "version": 3
   },
   "file_extension": ".py",
   "mimetype": "text/x-python",
   "name": "python",
   "nbconvert_exporter": "python",
   "pygments_lexer": "ipython3",
   "version": "3.10.6"
  }
 },
 "nbformat": 4,
 "nbformat_minor": 5
}
