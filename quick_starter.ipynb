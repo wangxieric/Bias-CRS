{
 "cells": [
  {
   "cell_type": "code",
   "execution_count": 1,
   "metadata": {},
   "outputs": [
    {
     "name": "stdout",
     "output_type": "stream",
     "text": [
      "Looking in indexes: https://pypi.org/simple, https://download.pytorch.org/whl/cu113\n",
      "Requirement already satisfied: torch==1.12.0+cu113 in /home/srahmani/anaconda3/envs/BiasCRS/lib/python3.7/site-packages (1.12.0+cu113)\n",
      "Requirement already satisfied: torchvision==0.13.0+cu113 in /home/srahmani/anaconda3/envs/BiasCRS/lib/python3.7/site-packages (0.13.0+cu113)\n",
      "Requirement already satisfied: torchaudio==0.12.0 in /home/srahmani/anaconda3/envs/BiasCRS/lib/python3.7/site-packages (0.12.0+cu113)\n",
      "Requirement already satisfied: typing-extensions in /home/srahmani/anaconda3/envs/BiasCRS/lib/python3.7/site-packages (from torch==1.12.0+cu113) (4.4.0)\n",
      "Requirement already satisfied: requests in /home/srahmani/anaconda3/envs/BiasCRS/lib/python3.7/site-packages (from torchvision==0.13.0+cu113) (2.28.2)\n",
      "Requirement already satisfied: pillow!=8.3.*,>=5.3.0 in /home/srahmani/anaconda3/envs/BiasCRS/lib/python3.7/site-packages (from torchvision==0.13.0+cu113) (9.4.0)\n",
      "Requirement already satisfied: numpy in /home/srahmani/anaconda3/envs/BiasCRS/lib/python3.7/site-packages (from torchvision==0.13.0+cu113) (1.21.6)\n",
      "Requirement already satisfied: certifi>=2017.4.17 in /home/srahmani/anaconda3/envs/BiasCRS/lib/python3.7/site-packages (from requests->torchvision==0.13.0+cu113) (2022.12.7)\n",
      "Requirement already satisfied: urllib3<1.27,>=1.21.1 in /home/srahmani/anaconda3/envs/BiasCRS/lib/python3.7/site-packages (from requests->torchvision==0.13.0+cu113) (1.26.14)\n",
      "Requirement already satisfied: charset-normalizer<4,>=2 in /home/srahmani/anaconda3/envs/BiasCRS/lib/python3.7/site-packages (from requests->torchvision==0.13.0+cu113) (3.0.1)\n",
      "Requirement already satisfied: idna<4,>=2.5 in /home/srahmani/anaconda3/envs/BiasCRS/lib/python3.7/site-packages (from requests->torchvision==0.13.0+cu113) (3.4)\n",
      "Looking in links: https://pytorch-geometric.com/whl/torch-+.html\n",
      "Requirement already satisfied: torch-scatter in /home/srahmani/anaconda3/envs/BiasCRS/lib/python3.7/site-packages (2.1.0)\n",
      "Looking in links: https://pytorch-geometric.com/whl/torch-+.html\n",
      "Requirement already satisfied: torch-sparse in /home/srahmani/anaconda3/envs/BiasCRS/lib/python3.7/site-packages (0.6.16)\n",
      "Requirement already satisfied: scipy in /home/srahmani/anaconda3/envs/BiasCRS/lib/python3.7/site-packages (from torch-sparse) (1.7.3)\n",
      "Requirement already satisfied: numpy<1.23.0,>=1.16.5 in /home/srahmani/anaconda3/envs/BiasCRS/lib/python3.7/site-packages (from scipy->torch-sparse) (1.21.6)\n",
      "Looking in links: https://pytorch-geometric.com/whl/torch-+.html\n",
      "Requirement already satisfied: torch-cluster in /home/srahmani/anaconda3/envs/BiasCRS/lib/python3.7/site-packages (1.6.0)\n",
      "Looking in links: https://pytorch-geometric.com/whl/torch-+.html\n",
      "Requirement already satisfied: torch-spline-conv in /home/srahmani/anaconda3/envs/BiasCRS/lib/python3.7/site-packages (1.2.1)\n",
      "Requirement already satisfied: torch-geometric in /home/srahmani/anaconda3/envs/BiasCRS/lib/python3.7/site-packages (2.2.0)\n",
      "Requirement already satisfied: jinja2 in /home/srahmani/anaconda3/envs/BiasCRS/lib/python3.7/site-packages (from torch-geometric) (3.1.2)\n",
      "Requirement already satisfied: tqdm in /home/srahmani/anaconda3/envs/BiasCRS/lib/python3.7/site-packages (from torch-geometric) (4.64.1)\n",
      "Requirement already satisfied: psutil>=5.8.0 in /home/srahmani/anaconda3/envs/BiasCRS/lib/python3.7/site-packages (from torch-geometric) (5.9.0)\n",
      "Requirement already satisfied: numpy in /home/srahmani/anaconda3/envs/BiasCRS/lib/python3.7/site-packages (from torch-geometric) (1.21.6)\n",
      "Requirement already satisfied: requests in /home/srahmani/anaconda3/envs/BiasCRS/lib/python3.7/site-packages (from torch-geometric) (2.28.2)\n",
      "Requirement already satisfied: scikit-learn in /home/srahmani/anaconda3/envs/BiasCRS/lib/python3.7/site-packages (from torch-geometric) (1.0.2)\n",
      "Requirement already satisfied: scipy in /home/srahmani/anaconda3/envs/BiasCRS/lib/python3.7/site-packages (from torch-geometric) (1.7.3)\n",
      "Requirement already satisfied: pyparsing in /home/srahmani/anaconda3/envs/BiasCRS/lib/python3.7/site-packages (from torch-geometric) (3.0.9)\n",
      "Requirement already satisfied: MarkupSafe>=2.0 in /home/srahmani/anaconda3/envs/BiasCRS/lib/python3.7/site-packages (from jinja2->torch-geometric) (2.1.2)\n",
      "Requirement already satisfied: urllib3<1.27,>=1.21.1 in /home/srahmani/anaconda3/envs/BiasCRS/lib/python3.7/site-packages (from requests->torch-geometric) (1.26.14)\n",
      "Requirement already satisfied: charset-normalizer<4,>=2 in /home/srahmani/anaconda3/envs/BiasCRS/lib/python3.7/site-packages (from requests->torch-geometric) (3.0.1)\n",
      "Requirement already satisfied: idna<4,>=2.5 in /home/srahmani/anaconda3/envs/BiasCRS/lib/python3.7/site-packages (from requests->torch-geometric) (3.4)\n",
      "Requirement already satisfied: certifi>=2017.4.17 in /home/srahmani/anaconda3/envs/BiasCRS/lib/python3.7/site-packages (from requests->torch-geometric) (2022.12.7)\n",
      "Requirement already satisfied: threadpoolctl>=2.0.0 in /home/srahmani/anaconda3/envs/BiasCRS/lib/python3.7/site-packages (from scikit-learn->torch-geometric) (3.1.0)\n",
      "Requirement already satisfied: joblib>=0.11 in /home/srahmani/anaconda3/envs/BiasCRS/lib/python3.7/site-packages (from scikit-learn->torch-geometric) (1.2.0)\n"
     ]
    }
   ],
   "source": [
    "# Option 2\n",
    "!pip install torch==1.12.0+cu113 torchvision==0.13.0+cu113 torchaudio==0.12.0 --extra-index-url https://download.pytorch.org/whl/cu113\n",
    "!pip install torch-scatter -f https://pytorch-geometric.com/whl/torch-${TORCH}+${CUDA}.html\n",
    "!pip install torch-sparse -f https://pytorch-geometric.com/whl/torch-${TORCH}+${CUDA}.html\n",
    "!pip install torch-cluster -f https://pytorch-geometric.com/whl/torch-${TORCH}+${CUDA}.html\n",
    "!pip install torch-spline-conv -f https://pytorch-geometric.com/whl/torch-${TORCH}+${CUDA}.html\n",
    "!pip install torch-geometric"
   ]
  },
  {
   "cell_type": "code",
   "execution_count": null,
   "metadata": {},
   "outputs": [],
   "source": []
  }
 ],
 "metadata": {
  "kernelspec": {
   "display_name": "BiasCRS",
   "language": "python",
   "name": "python3"
  },
  "language_info": {
   "codemirror_mode": {
    "name": "ipython",
    "version": 3
   },
   "file_extension": ".py",
   "mimetype": "text/x-python",
   "name": "python",
   "nbconvert_exporter": "python",
   "pygments_lexer": "ipython3",
   "version": "3.7.0"
  },
  "orig_nbformat": 4,
  "vscode": {
   "interpreter": {
    "hash": "be89d09c210c31b89a4d8dad417ac3eff70388df6f27af6eab0b7b4056a065f6"
   }
  }
 },
 "nbformat": 4,
 "nbformat_minor": 2
}
